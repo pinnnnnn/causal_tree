{
 "cells": [
  {
   "cell_type": "code",
   "execution_count": 1,
   "metadata": {
    "collapsed": true
   },
   "outputs": [],
   "source": [
    "import pickle"
   ]
  },
  {
   "cell_type": "code",
   "execution_count": 2,
   "metadata": {
    "collapsed": false
   },
   "outputs": [],
   "source": [
    "# import a random forest model\n",
    "with open('simulation_study1_fixed_x2//random_forest_trained_model_rand_x2.pkl', 'rb') as fp:\n",
    "    rf_rand = pickle.load(fp)\n",
    "# extract a tree from the model    \n",
    "rf_rand_design1 = rf_rand[0]\n",
    "tree_test = rf_rand_design1[42]"
   ]
  },
  {
   "cell_type": "code",
   "execution_count": 3,
   "metadata": {
    "collapsed": false
   },
   "outputs": [
    {
     "data": {
      "text/plain": [
       "{'index': 1,\n",
       " 'value': -1.5515400408204438,\n",
       " 'left': {'index': 10,\n",
       "  'value': -0.1431590128747282,\n",
       "  'left': (-2.0159535543856903, 5.5),\n",
       "  'right': (-1.5610582376335604, 17.3)},\n",
       " 'right': {'index': 1,\n",
       "  'value': 0.1170755093900484,\n",
       "  'left': {'index': 7,\n",
       "   'value': 1.9742223658923783,\n",
       "   'left': (-0.2606857279106427, 26.3),\n",
       "   'right': (-0.32486157501856855, 6.3)},\n",
       "  'right': {'index': 1,\n",
       "   'value': 3.2444169757003034,\n",
       "   'left': (0.650666310942522, 40.2),\n",
       "   'right': (2.3801567404231063, 4.3)}}}"
      ]
     },
     "execution_count": 3,
     "metadata": {},
     "output_type": "execute_result"
    }
   ],
   "source": [
    "tree_test"
   ]
  },
  {
   "cell_type": "code",
   "execution_count": 4,
   "metadata": {
    "collapsed": false
   },
   "outputs": [
    {
     "name": "stdout",
     "output_type": "stream",
     "text": [
      "[x1 < -1.55]\n",
      " [x10 < -0.14]\n",
      "  [-2.0159535543856903, 5.5%]\n",
      "  [-1.5610582376335604, 17.3%]\n",
      " [x1 < 0.12]\n",
      "  [x7 < 1.97]\n",
      "   [-0.2606857279106427, 26.3%]\n",
      "   [-0.32486157501856855, 6.3%]\n",
      "  [x1 < 3.24]\n",
      "   [0.650666310942522, 40.2%]\n",
      "   [2.3801567404231063, 4.3%]\n"
     ]
    }
   ],
   "source": [
    "#print out the tree structure\n",
    "COLUMN_NAMES = ['x1','x2','x3','x4','x5','x6','x7','x8','x9','x10']\n",
    "\n",
    "def print_tree(node, depth=0):\n",
    "    if isinstance(node, dict):\n",
    "        print('%s[%s < %.2f]' % ((depth * ' ', (COLUMN_NAMES[node['index'] - 1]), node['value'])))\n",
    "        print_tree(node['left'], depth + 1)\n",
    "        print_tree(node['right'], depth + 1)\n",
    "    else:\n",
    "        print('%s[%s, %s%%]' % ((depth * ' ', node[0], node[1])))\n",
    "        \n",
    "print_tree(tree_test)"
   ]
  },
  {
   "cell_type": "code",
   "execution_count": 67,
   "metadata": {
    "collapsed": false
   },
   "outputs": [],
   "source": [
    "def extract_path(node, current_path=[], all_path=[]):\n",
    "    \n",
    "    if isinstance(node, dict) == False:\n",
    "        if current_path not in all_path:\n",
    "            all_path.append(current_path)\n",
    "        return\n",
    "    else:\n",
    "        new_current_path = current_path[:]\n",
    "        new_current_path.append('%s < %.2f' % ((COLUMN_NAMES[node['index'] - 1]), node['value']))\n",
    "        extract_path(node['left'], new_current_path, all_path)\n",
    "        extract_path(node['right'], new_current_path, all_path)\n",
    "    \n",
    "    return all_path"
   ]
  },
  {
   "cell_type": "code",
   "execution_count": 68,
   "metadata": {
    "collapsed": false
   },
   "outputs": [
    {
     "data": {
      "text/plain": [
       "[['x1 < -1.55', 'x10 < -0.14'],\n",
       " ['x1 < -1.55', 'x1 < 0.12', 'x7 < 1.97'],\n",
       " ['x1 < -1.55', 'x1 < 0.12', 'x1 < 3.24']]"
      ]
     },
     "execution_count": 68,
     "metadata": {},
     "output_type": "execute_result"
    }
   ],
   "source": [
    "a = extract_path(tree_test)\n",
    "a"
   ]
  }
 ],
 "metadata": {
  "kernelspec": {
   "display_name": "Python [conda env:myenv]",
   "language": "python",
   "name": "conda-env-myenv-py"
  },
  "language_info": {
   "codemirror_mode": {
    "name": "ipython",
    "version": 3
   },
   "file_extension": ".py",
   "mimetype": "text/x-python",
   "name": "python",
   "nbconvert_exporter": "python",
   "pygments_lexer": "ipython3",
   "version": "3.6.5"
  }
 },
 "nbformat": 4,
 "nbformat_minor": 1
}
