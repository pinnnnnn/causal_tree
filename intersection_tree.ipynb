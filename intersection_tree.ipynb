{
 "cells": [
  {
   "cell_type": "code",
   "execution_count": 1,
   "metadata": {
    "collapsed": true
   },
   "outputs": [],
   "source": [
    "import pickle"
   ]
  },
  {
   "cell_type": "code",
   "execution_count": 2,
   "metadata": {
    "collapsed": true
   },
   "outputs": [],
   "source": [
    "# import a random forest model\n",
    "with open('simulation_study1_fixed_x2//random_forest_trained_model_rand_x2.pkl', 'rb') as fp:\n",
    "    rf_rand = pickle.load(fp)\n",
    "# extract a tree from the model    \n",
    "rf_rand_design1 = rf_rand[0]\n",
    "tree_test = rf_rand_design1[0]"
   ]
  },
  {
   "cell_type": "code",
   "execution_count": 10,
   "metadata": {
    "collapsed": false
   },
   "outputs": [
    {
     "name": "stdout",
     "output_type": "stream",
     "text": [
      "[x1 < -0.336]\n",
      " [x2 < -0.551]\n",
      "  [-1.8743244438483124, 5.8%]\n",
      "  [-1.1405317961268784, 39.3%]\n",
      " [x5 < 0.597]\n",
      "  [x1 < 3.005]\n",
      "   [0.4336346503365929, 30.8%]\n",
      "   [1.9182311541859711, 4.7%]\n",
      "  [x9 < 2.500]\n",
      "   [1.0974047159597713, 13.3%]\n",
      "   [1.3064078903222662, 6.0%]\n"
     ]
    }
   ],
   "source": [
    "#print out the tree structure\n",
    "COLUMN_NAMES = ['x1','x2','x3','x4','x5','x6','x7','x8','x9','x10']\n",
    "\n",
    "def print_tree(node, depth=0):\n",
    "    if isinstance(node, dict):\n",
    "        print('%s[%s < %.3f]' % ((depth * ' ', (COLUMN_NAMES[node['index'] - 1]), node['value'])))\n",
    "        print_tree(node['left'], depth + 1)\n",
    "        print_tree(node['right'], depth + 1)\n",
    "    else:\n",
    "        print('%s[%s, %s%%]' % ((depth * ' ', node[0], node[1])))\n",
    "        \n",
    "print_tree(tree_test)"
   ]
  },
  {
   "cell_type": "code",
   "execution_count": 15,
   "metadata": {
    "collapsed": true
   },
   "outputs": [],
   "source": [
    "def extract_path(node, depth=0):\n",
    "    if isinstance(node, dict):\n",
    "        print('%s[%s < %.3f]' % ((depth * ' ', (COLUMN_NAMES[node['index'] - 1]), node['value'])))\n",
    "        extract_path(node['left'], depth + 1)\n",
    "        extract_path(node['right'], depth + 1)\n",
    "    #else:\n",
    "        #print('%s[%s, %s%%]' % ((depth * ' ', node[0], node[1])))"
   ]
  },
  {
   "cell_type": "code",
   "execution_count": 16,
   "metadata": {
    "collapsed": false
   },
   "outputs": [
    {
     "name": "stdout",
     "output_type": "stream",
     "text": [
      "[x1 < -0.336]\n",
      " [x2 < -0.551]\n",
      " [x5 < 0.597]\n",
      "  [x1 < 3.005]\n",
      "  [x9 < 2.500]\n"
     ]
    }
   ],
   "source": [
    "extract_path(tree_test)"
   ]
  },
  {
   "cell_type": "code",
   "execution_count": null,
   "metadata": {
    "collapsed": true
   },
   "outputs": [],
   "source": []
  }
 ],
 "metadata": {
  "kernelspec": {
   "display_name": "Python [conda env:myenv]",
   "language": "python",
   "name": "conda-env-myenv-py"
  },
  "language_info": {
   "codemirror_mode": {
    "name": "ipython",
    "version": 3
   },
   "file_extension": ".py",
   "mimetype": "text/x-python",
   "name": "python",
   "nbconvert_exporter": "python",
   "pygments_lexer": "ipython3",
   "version": "3.6.5"
  }
 },
 "nbformat": 4,
 "nbformat_minor": 1
}
