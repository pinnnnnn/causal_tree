{
 "cells": [
  {
   "cell_type": "code",
   "execution_count": 1,
   "metadata": {
    "collapsed": true
   },
   "outputs": [],
   "source": [
    "import numpy as np\n",
    "#set a random seed to make the algo replicable \n",
    "np.random.seed(0)"
   ]
  },
  {
   "cell_type": "code",
   "execution_count": 71,
   "metadata": {
    "collapsed": true
   },
   "outputs": [],
   "source": [
    "dataset = [[2.771244718,1.784783929,0],\n",
    "    [1.728571309,1.169761413,0],\n",
    "    [3.678319846,2.81281357,0],\n",
    "    [3.961043357,2.61995032,0],\n",
    "    [2.999208922,2.209014212,0],\n",
    "    [7.497545867,3.162953546,1],\n",
    "    [9.00220326,3.339047188,1],\n",
    "    [7.444542326,0.476683375,1],\n",
    "    [10.12493903,3.234550982,1],\n",
    "    [6.642287351,3.319983761,1]]"
   ]
  },
  {
   "cell_type": "code",
   "execution_count": 2,
   "metadata": {
    "collapsed": true
   },
   "outputs": [],
   "source": [
    "# Split a dataset based on an attribute and an attribute value\n",
    "def test_split(index, value, dataset):\n",
    "    left, right = list(), list()\n",
    "    for row in dataset:\n",
    "        if row[index] < value:\n",
    "            left.append(row)\n",
    "        else:\n",
    "            right.append(row)\n",
    "    return left, right"
   ]
  },
  {
   "cell_type": "code",
   "execution_count": 3,
   "metadata": {
    "collapsed": true
   },
   "outputs": [],
   "source": [
    "################################################### Criterion: gini ########################################\n",
    "# Calculate the Gini index for a split dataset\n",
    "def get_gini(groups, classes):\n",
    "    # count all samples at split point\n",
    "    n_instances = float(sum([len(group) for group in groups]))\n",
    "    # sum weighted Gini index for each group\n",
    "    gini = 0.0\n",
    "    for group in groups:\n",
    "        size = float(len(group))\n",
    "        # avoid divide by zero\n",
    "        if size == 0:\n",
    "            continue\n",
    "        score = 0.0\n",
    "        # score the group based on the score for each class\n",
    "        for class_val in classes:\n",
    "            p = [row[-1] for row in group].count(class_val) / size\n",
    "            score += p * p\n",
    "        # weight the group score by its relative size\n",
    "        gini += (1.0 - score) * (size / n_instances)\n",
    "    return gini\n",
    "\n",
    "# Select the best split point for a dataset\n",
    "def get_split_gini(dataset):\n",
    "    class_values = list(set(row[-1] for row in dataset))\n",
    "    b_index, b_value, b_score, b_groups =float('inf'), float('inf'), float('inf'), None\n",
    "    for index in range(len(dataset[0])-1):\n",
    "        for row in dataset:\n",
    "            groups = test_split(index, row[index], dataset)\n",
    "            gini = get_gini(groups, class_values)\n",
    "            if gini < b_score:\n",
    "                b_index, b_value, b_score, b_groups = index, row[index], gini, groups\n",
    "    return {'index':b_index, 'value':b_value, 'groups':b_groups}"
   ]
  },
  {
   "cell_type": "code",
   "execution_count": 4,
   "metadata": {
    "collapsed": true
   },
   "outputs": [],
   "source": [
    "#################################################### Criterion: EMSE ########################################\n",
    "######### This part is so wrong, just have something up there for the frame work. Need to\n",
    "######### Read the paper again and figure out the actual EMSE computation.\n",
    "\n",
    "#EMSE is a criterion adapted from conventional MSE. It is used to find the causal effect using a tree algorithm\n",
    "def get_emse(train_lst):\n",
    "    \n",
    "    train_lst = np.array(train_lst)\n",
    "    \n",
    "    ###get the conventional mse for trt split\n",
    "    trt_mse = get_mse(train_lst)\n",
    "    \n",
    "    #randomly split the train_lst into treatment and estimate \n",
    "    np.random.shuffle(train_lst)\n",
    "    length = train_lst.size\n",
    "    mid_point = round(length/2)\n",
    "    tst_lst = train_lst[:mid_point]\n",
    "    est_lst = train_lst[mid_point:]\n",
    "    \n",
    "    # calculate the propensity score for trt group\n",
    "    n_trt = trt_lst.size\n",
    "    n_est = est_lst.size\n",
    "    p = n_trt / (n_trt + n_est)\n",
    "    \n",
    "    ### calculate the adaptive part\n",
    "    adaptive = (1 / n_trt + 1 / n_est) * (np.var(trt_lst) / p + np.var(est_lst) / (1 - p))\n",
    "    \n",
    "    #calculate emse\n",
    "    emse = trt_mse - adaptive\n",
    "    \n",
    "    return emse"
   ]
  },
  {
   "cell_type": "code",
   "execution_count": 5,
   "metadata": {
    "collapsed": true
   },
   "outputs": [],
   "source": [
    "def get_split_emse(dataset):\n",
    "    # initialize values to return\n",
    "    b_index, b_value, b_score, b_groups = float('inf'), float('inf'), float('inf'), None\n",
    "    \n",
    "    for index in range(len(dataset[0])-1):\n",
    "        for row in dataset:\n",
    "            groups = test_split(index, row[index], dataset)\n",
    "            left_lst = [item[-1] for item in groups[0]]\n",
    "            right_lst = [item[-1] for item in groups[1]]\n",
    "            # skip when a split has no data point\n",
    "            if len(left_lst) == 0 or len(right_lst) == 0:\n",
    "                continue\n",
    "            # calculate the mse\n",
    "            emse_left = get_emse(left_lst)\n",
    "            emse_right = get_emse(right_lst)\n",
    "            emse = emse_left + emse_right\n",
    "            if emse < b_score:\n",
    "                b_index, b_value, b_score, b_groups = index, row[index], emse, groups      \n",
    "\n",
    "    return {'index':b_index, 'value':b_value, 'groups':b_groups}"
   ]
  },
  {
   "cell_type": "code",
   "execution_count": 95,
   "metadata": {
    "collapsed": false
   },
   "outputs": [
    {
     "data": {
      "text/plain": [
       "[2.771244718, 1.784783929, 0]"
      ]
     },
     "execution_count": 95,
     "metadata": {},
     "output_type": "execute_result"
    }
   ],
   "source": [
    "dataset[0]"
   ]
  },
  {
   "cell_type": "code",
   "execution_count": 91,
   "metadata": {
    "collapsed": true
   },
   "outputs": [],
   "source": [
    "#################################################### Criterion: MSE ########################################\n",
    "def get_mse(true_lst):\n",
    "    \"\"\" \n",
    "    A function to calculate the mse\n",
    "    \n",
    "    Input:\n",
    "    ------\n",
    "        true_lst(np array): an array of true values \n",
    "    \n",
    "    Output:\n",
    "    ------:\n",
    "        mse(float): the value of mean squared error of two lists\n",
    "    \n",
    "    \"\"\"\n",
    "    true_lst = np.array(true_lst)\n",
    "    \n",
    "    if true_lst.size == 0:\n",
    "        pass\n",
    "    #    raise IndexError('The length of list is 0.')\n",
    "    \n",
    "    #get the mean value of the list, since squared loss is optmized at the mean\n",
    "    avg = true_lst.mean()\n",
    "    #calculate mse\n",
    "    mse = ((true_lst - avg) ** 2).mean()\n",
    "    \n",
    "    return mse\n",
    "\n",
    "\n",
    "\n",
    "# Select the best split point for a dataset\n",
    "def get_split_mse(dataset):\n",
    "    # initialize values to return\n",
    "    b_index, b_value, b_score, b_groups = float('inf'), float('inf'), float('inf'), None\n",
    "\n",
    "    for index in range(len(dataset[0])-1):\n",
    "        for row in dataset:\n",
    "            groups = test_split(index, row[index], dataset)\n",
    "            left_lst = [item[-1] for item in groups[0]]\n",
    "            right_lst = [item[-1] for item in groups[1]]\n",
    "            # skip when a split has no data point\n",
    "            if len(left_lst) == 0 or len(right_lst) == 0:\n",
    "                continue\n",
    "            # calculate the mse\n",
    "            mse_left = get_mse(left_lst)\n",
    "            mse_right = get_mse(right_lst)\n",
    "            mse = mse_left + mse_right\n",
    "            if mse < b_score:\n",
    "                b_index, b_value, b_score, b_groups = index, row[index], mse, groups    \n",
    "                \n",
    "    ret_dict =  {'index':b_index, 'value':b_value, 'groups':b_groups}\n",
    "    print(ret_dict)\n",
    "    return ret_dict"
   ]
  },
  {
   "cell_type": "code",
   "execution_count": 93,
   "metadata": {
    "collapsed": false
   },
   "outputs": [],
   "source": [
    "# get the split based on criterion\n",
    "def get_split(dataset, criterion):\n",
    "    if criterion == 'mse':\n",
    "        return get_split_mse(dataset)\n",
    "    if criterion == 'emse':\n",
    "        return get_split_emse(dataset)    \n",
    "    elif criterion == 'gini':\n",
    "        return get_split_gini(dataset)\n",
    "\n",
    "    \n",
    "# Create a terminal node value\n",
    "def to_terminal_categorical(group):\n",
    "    outcomes = [row[-1] for row in group]\n",
    "    return max(set(outcomes), key=outcomes.count)\n",
    "\n",
    "def to_terminal_continuous(group):\n",
    "    outcomes = [row[-1] for row in group]\n",
    "    return np.mean(outcomes)\n",
    "\n",
    "def to_terminal(group, criterion):\n",
    "    if criterion == 'gini':\n",
    "        return to_terminal_categorical(group)\n",
    "    elif criterion == 'mse' or criterion == 'emse':\n",
    "        return to_terminal_continuous(group)    \n",
    "\n",
    "\n",
    "# Create child splits for a node or make terminal\n",
    "def split(node, max_depth, min_size, depth, criterion):\n",
    "    #print(node)\n",
    "    left, right = node['groups']\n",
    "    del(node['groups'])\n",
    "    # check for a no split\n",
    "    if not left or not right:\n",
    "        node['left'] = node['right'] = to_terminal(left + right, criterion)\n",
    "        return\n",
    "    # check for max depth\n",
    "    if depth >= max_depth:\n",
    "        node['left'], node['right'] = to_terminal(left, criterion), to_terminal(right, criterion)\n",
    "        return\n",
    "    # process left child\n",
    "    if len(left) <= min_size:\n",
    "        node['left'] = to_terminal(left, criterion)\n",
    "    else:\n",
    "        node['left'] = get_split(left, criterion)\n",
    "        split(node['left'], max_depth, min_size, depth+1, criterion)\n",
    "    # process right child\n",
    "    if len(right) <= min_size:\n",
    "        node['right'] = to_terminal(right, criterion)\n",
    "    else:\n",
    "        node['right'] = get_split(right, criterion)\n",
    "        split(node['right'], max_depth, min_size, depth+1, criterion)\n",
    "\n",
    "# Build a decision tree\n",
    "def build_tree(train, max_depth, min_size, criterion):\n",
    "    root = get_split(train, criterion)\n",
    "    split(root, max_depth, min_size, 1, criterion)\n",
    "    return root\n",
    "\n",
    "# Print a decision tree\n",
    "def print_tree(node, depth=0):\n",
    "    if isinstance(node, dict):\n",
    "        print('%s[X%d < %.3f]' % ((depth*' ', (node['index']+1), node['value'])))\n",
    "        print_tree(node['left'], depth+1)\n",
    "        print_tree(node['right'], depth+1)\n",
    "    else:\n",
    "        print('%s[%s]' % ((depth*' ', node)))\n",
    "\n",
    "\n"
   ]
  },
  {
   "cell_type": "code",
   "execution_count": 94,
   "metadata": {
    "collapsed": false
   },
   "outputs": [
    {
     "name": "stdout",
     "output_type": "stream",
     "text": [
      "{'index': 0, 'value': 7.497545867, 'groups': ([[2.771244718, 1.784783929, 0.2456], [1.728571309, 1.169761413, 0.87673], [3.678319846, 2.81281357, 0.92357], [3.961043357, 2.61995032, 0.12341], [2.999208922, 2.209014212, 0.01134], [7.444542326, 0.476683375, 0.34534], [6.642287351, 3.319983761, 0.34563]], [[7.497545867, 3.162953546, 1.56433], [9.00220326, 3.339047188, 1.23461], [10.12493903, 3.234550982, 0.84662]])}\n",
      "{'index': 0, 'value': 2.771244718, 'groups': ([[1.728571309, 1.169761413, 0.87673]], [[2.771244718, 1.784783929, 0.2456], [3.678319846, 2.81281357, 0.92357], [3.961043357, 2.61995032, 0.12341], [2.999208922, 2.209014212, 0.01134], [7.444542326, 0.476683375, 0.34534], [6.642287351, 3.319983761, 0.34563]])}\n",
      "{'index': 0, 'value': 2.999208922, 'groups': ([[2.771244718, 1.784783929, 0.2456]], [[3.678319846, 2.81281357, 0.92357], [3.961043357, 2.61995032, 0.12341], [2.999208922, 2.209014212, 0.01134], [7.444542326, 0.476683375, 0.34534], [6.642287351, 3.319983761, 0.34563]])}\n",
      "{'index': 0, 'value': 10.12493903, 'groups': ([[7.497545867, 3.162953546, 1.56433], [9.00220326, 3.339047188, 1.23461]], [[10.12493903, 3.234550982, 0.84662]])}\n",
      "{'index': 0, 'value': 9.00220326, 'groups': ([[7.497545867, 3.162953546, 1.56433]], [[9.00220326, 3.339047188, 1.23461]])}\n",
      "[X1 < 7.498]\n",
      " [X1 < 2.771]\n",
      "  [0.87673]\n",
      "  [X1 < 2.999]\n",
      "   [0.2456]\n",
      "   [0.34985799999999995]\n",
      " [X1 < 10.125]\n",
      "  [X1 < 9.002]\n",
      "   [1.56433]\n",
      "   [1.23461]\n",
      "  [0.84662]\n"
     ]
    }
   ],
   "source": [
    "dataset_mse = [[2.771244718,1.784783929,0.2456],\n",
    "    [1.728571309,1.169761413,0.87673],\n",
    "    [3.678319846,2.81281357,0.92357],\n",
    "    [3.961043357,2.61995032,0.12341],\n",
    "    [2.999208922,2.209014212,0.01134],\n",
    "    [7.497545867,3.162953546,1.56433],\n",
    "    [9.00220326,3.339047188,1.23461],\n",
    "    [7.444542326,0.476683375,0.34534],\n",
    "    [10.12493903,3.234550982,0.84662],\n",
    "    [6.642287351,3.319983761,0.34563]]\n",
    "tree_mse = build_tree(dataset_mse, 3, 1, 'mse')\n",
    "print_tree(tree_mse)"
   ]
  },
  {
   "cell_type": "code",
   "execution_count": 97,
   "metadata": {
    "collapsed": false
   },
   "outputs": [
    {
     "name": "stdout",
     "output_type": "stream",
     "text": [
      "[X1 < 6.642]\n",
      " [X1 < 2.771]\n",
      "  [0]\n",
      "  [X1 < 2.771]\n",
      "   [0]\n",
      "   [0]\n",
      " [X1 < 7.498]\n",
      "  [X1 < 7.445]\n",
      "   [1]\n",
      "   [1]\n",
      "  [X1 < 7.498]\n",
      "   [1]\n",
      "   [1]\n"
     ]
    }
   ],
   "source": [
    "dataset_gini = [[2.771244718,1.784783929,0],\n",
    "    [1.728571309,1.169761413,0],\n",
    "    [3.678319846,2.81281357,0],\n",
    "    [3.961043357,2.61995032,0],\n",
    "    [2.999208922,2.209014212,0],\n",
    "    [7.497545867,3.162953546,1],\n",
    "    [9.00220326,3.339047188,1],\n",
    "    [7.444542326,0.476683375,1],\n",
    "    [10.12493903,3.234550982,1],\n",
    "    [6.642287351,3.319983761,1]]\n",
    "#tree_gini = build_tree(dataset_gini, 3, 1, 'gini')\n",
    "#print_tree(tree_gini)"
   ]
  },
  {
   "cell_type": "code",
   "execution_count": 68,
   "metadata": {
    "collapsed": false
   },
   "outputs": [],
   "source": [
    "dataset_emse = [[2.771244718,1.784783929,0.2456],\n",
    "    [1.728571309,1.169761413,0.87673],\n",
    "    [3.678319846,2.81281357,0.92357],\n",
    "    [3.961043357,2.61995032,0.12341],\n",
    "    [2.999208922,2.209014212,0.01134],\n",
    "    [7.497545867,3.162953546,1.56433],\n",
    "    [9.00220326,3.339047188,1.23461],\n",
    "    [7.444542326,0.476683375,0.34534],\n",
    "    [10.12493903,3.234550982,0.84662],\n",
    "    [6.642287351,3.319983761,0.34563]]\n",
    "#tree_emse = build_tree(dataset_emse, 2, 1, 'emse')\n",
    "#print_tree(tree_emse)"
   ]
  },
  {
   "cell_type": "code",
   "execution_count": 69,
   "metadata": {
    "collapsed": false
   },
   "outputs": [],
   "source": [
    "# # Make a prediction with a decision tree\n",
    "# def predict(node, row):\n",
    "#     if row[node['index']] < node['value']:\n",
    "#         if isinstance(node['left'], dict):\n",
    "#             return predict(node['left'], row)\n",
    "#         else:\n",
    "#             return node['left']\n",
    "#     else:\n",
    "#         if isinstance(node['right'], dict):\n",
    "#             return predict(node['right'], row)\n",
    "#         else:\n",
    "#             return node['right']\n",
    "\n",
    "# dataset = [[2.771244718,1.784783929,0],\n",
    "#     [1.728571309,1.169761413,0],\n",
    "#     [3.678319846,2.81281357,0],\n",
    "#     [3.961043357,2.61995032,0],\n",
    "#     [2.999208922,2.209014212,0],\n",
    "#     [7.497545867,3.162953546,1],\n",
    "#     [9.00220326,3.339047188,1],\n",
    "#     [7.444542326,0.476683375,1],\n",
    "#     [10.12493903,3.234550982,1],\n",
    "#     [6.642287351,3.319983761,1]]\n",
    " \n",
    "# #  predict with a stump\n",
    "# stump = {'index': 0, 'right': 1, 'value': 7.445, 'left': 0}\n",
    "# for row in dataset:\n",
    "#     prediction = predict(stump, row)\n",
    "#     print('Expected=%d, Got=%d' % (row[-1], prediction))"
   ]
  }
 ],
 "metadata": {
  "anaconda-cloud": {},
  "kernelspec": {
   "display_name": "Python [conda env:myenv]",
   "language": "python",
   "name": "conda-env-myenv-py"
  },
  "language_info": {
   "codemirror_mode": {
    "name": "ipython",
    "version": 3
   },
   "file_extension": ".py",
   "mimetype": "text/x-python",
   "name": "python",
   "nbconvert_exporter": "python",
   "pygments_lexer": "ipython3",
   "version": "3.6.5"
  }
 },
 "nbformat": 4,
 "nbformat_minor": 1
}
